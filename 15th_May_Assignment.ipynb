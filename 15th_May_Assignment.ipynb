{
 "cells": [
  {
   "cell_type": "markdown",
   "id": "adedcc66-1569-4a86-80d5-e44aa47966de",
   "metadata": {},
   "source": [
    "Q1. How do you comment code in Python? What are the different types of comments?"
   ]
  },
  {
   "cell_type": "raw",
   "id": "5b7a0bcc-a90f-4577-8dba-039036e00efd",
   "metadata": {},
   "source": [
    "There are two ways to comment in python \n",
    "1) Single line comment\n",
    "2) Multi line comment"
   ]
  },
  {
   "cell_type": "code",
   "execution_count": null,
   "id": "17b64c91-d567-482d-ad44-69763dc8052f",
   "metadata": {},
   "outputs": [],
   "source": [
    "# We use '#' for single line commenting\n",
    "''' We use triple quotations for multi line \n",
    "commenting at beginning and ending of \n",
    "multiple lines \n",
    "'''"
   ]
  },
  {
   "cell_type": "markdown",
   "id": "b080807e-9c13-4440-86d8-9a4e0d2dd927",
   "metadata": {},
   "source": [
    "Q2. What are variables in Python? How do you declare and assign values to variables?"
   ]
  },
  {
   "cell_type": "code",
   "execution_count": 25,
   "id": "ae05f19d-7efa-4a93-a6d5-642be9fa376d",
   "metadata": {},
   "outputs": [],
   "source": [
    "''' A variable in python is a name or reference of the \n",
    "    memory location of a value of any data type that is assigned to it''' \n",
    "''' When a variable name is declared the variable should start with an alphabet\n",
    "    or _ characters. Special characters are not allowed in a variable declaration'''\n",
    "# Example  \n",
    "# Decalring Assigning different data types values to variable\n",
    "a = 12\n",
    "b1 = 52.6\n",
    "_c = True"
   ]
  },
  {
   "cell_type": "markdown",
   "id": "a3f9e113-2f20-4e1c-86fd-c07c4912f4b5",
   "metadata": {},
   "source": [
    "Q3. How do you convert one data type to another in Python?"
   ]
  },
  {
   "cell_type": "code",
   "execution_count": 27,
   "id": "21007457-2f46-416f-ba7d-cf7a8ad1dee0",
   "metadata": {},
   "outputs": [],
   "source": [
    "# Typecasting or Explicit conversion in python\n",
    "# Coverting float data type to integer data type\n",
    "num  = 55.63\n",
    "num1 = int(55.63)"
   ]
  },
  {
   "cell_type": "code",
   "execution_count": 28,
   "id": "ce53216f-99be-4a36-91a5-e37c0a3bf5da",
   "metadata": {},
   "outputs": [
    {
     "data": {
      "text/plain": [
       "float"
      ]
     },
     "execution_count": 28,
     "metadata": {},
     "output_type": "execute_result"
    }
   ],
   "source": [
    "type(num)"
   ]
  },
  {
   "cell_type": "code",
   "execution_count": 29,
   "id": "61010ad6-24ec-44ba-98ce-646f7874f789",
   "metadata": {},
   "outputs": [
    {
     "data": {
      "text/plain": [
       "int"
      ]
     },
     "execution_count": 29,
     "metadata": {},
     "output_type": "execute_result"
    }
   ],
   "source": [
    "type(num1)"
   ]
  },
  {
   "cell_type": "markdown",
   "id": "43f46d74-1850-4c02-91db-a8a8c9ef3652",
   "metadata": {},
   "source": [
    "Q4. How do you write and execute a Python script from the command line?"
   ]
  },
  {
   "cell_type": "raw",
   "id": "e52e5323-f15a-4335-be35-069cb7f3d48c",
   "metadata": {},
   "source": [
    "1) Go to command prompt\n",
    "2) type py and press Enter\n",
    "3) write simple python code print('Hello world')\n",
    "4) press Enter"
   ]
  },
  {
   "cell_type": "raw",
   "id": "877b8a10-64d7-4c9e-91bb-47ef0eb01928",
   "metadata": {},
   "source": [
    "Q5. Given a list my_list = [1, 2, 3, 4, 5], write the code to slice the list and obtain the sub-list [2, 3]."
   ]
  },
  {
   "cell_type": "code",
   "execution_count": 2,
   "id": "efe50d13-103d-4496-a739-ec4966666aa3",
   "metadata": {},
   "outputs": [],
   "source": [
    "my_list = [1, 2, 3, 4, 5]"
   ]
  },
  {
   "cell_type": "code",
   "execution_count": 3,
   "id": "f529f607-7a67-499f-87a9-093438cc4929",
   "metadata": {},
   "outputs": [
    {
     "data": {
      "text/plain": [
       "[2, 3]"
      ]
     },
     "execution_count": 3,
     "metadata": {},
     "output_type": "execute_result"
    }
   ],
   "source": [
    "my_list[1:3] # slicing to get the required sub-list"
   ]
  },
  {
   "cell_type": "markdown",
   "id": "59eaa60d-bcf0-4ac6-9922-175b7e38b88d",
   "metadata": {},
   "source": [
    "Q6. What is a complex number in mathematics, and how is it represented in Python?"
   ]
  },
  {
   "cell_type": "raw",
   "id": "4d4bc116-dddd-474f-aa64-4d3edec031e1",
   "metadata": {},
   "source": [
    "A complex number in Mathematics is a combination of a real number and an imaginary number\n",
    "Ex:- 12+6i, 1-5i, 0.3-23.6i,....."
   ]
  },
  {
   "cell_type": "code",
   "execution_count": 30,
   "id": "0ee4f1b5-a960-4090-a053-31b2b69fe065",
   "metadata": {},
   "outputs": [],
   "source": [
    "# In python it is represented as follows\n",
    "cplx_num = 0.3-23.6j"
   ]
  },
  {
   "cell_type": "code",
   "execution_count": 31,
   "id": "cdfdd35d-48ad-4a59-af6b-9f33b328ce71",
   "metadata": {},
   "outputs": [
    {
     "data": {
      "text/plain": [
       "complex"
      ]
     },
     "execution_count": 31,
     "metadata": {},
     "output_type": "execute_result"
    }
   ],
   "source": [
    "type(cplx_num)"
   ]
  },
  {
   "cell_type": "code",
   "execution_count": 32,
   "id": "9f0c9484-3b7e-4942-b213-dd7192f530a6",
   "metadata": {},
   "outputs": [
    {
     "data": {
      "text/plain": [
       "-23.6"
      ]
     },
     "execution_count": 32,
     "metadata": {},
     "output_type": "execute_result"
    }
   ],
   "source": [
    "cplx_num.imag # to get the imaginary part of the complex number"
   ]
  },
  {
   "cell_type": "code",
   "execution_count": 33,
   "id": "e02a2224-9bba-4eda-89d8-eb8db61fabde",
   "metadata": {},
   "outputs": [
    {
     "data": {
      "text/plain": [
       "0.3"
      ]
     },
     "execution_count": 33,
     "metadata": {},
     "output_type": "execute_result"
    }
   ],
   "source": [
    "cplx_num.real # to get the real part of the complex number"
   ]
  },
  {
   "cell_type": "markdown",
   "id": "e6112c5e-b3f9-4f58-b1bd-70ee5915c741",
   "metadata": {},
   "source": [
    "Q7. What is the correct way to declare a variable named age and assign the value 25 to it?"
   ]
  },
  {
   "cell_type": "code",
   "execution_count": 34,
   "id": "1b9dd0d8-91c1-4b35-b784-f98e1dc4f41a",
   "metadata": {},
   "outputs": [],
   "source": [
    "# The correct way to declare a variable age and assigning 25 to it\n",
    "age = 25"
   ]
  },
  {
   "cell_type": "markdown",
   "id": "48d567e7-1162-4116-b318-cee3ccb2d256",
   "metadata": {},
   "source": [
    "Q8. Declare a variable named price and assign the value 9.99 to it. What data type does this variable belong to?"
   ]
  },
  {
   "cell_type": "code",
   "execution_count": 4,
   "id": "65ac5382-d534-48b4-8c50-c49e50b3d14b",
   "metadata": {},
   "outputs": [],
   "source": [
    "price = 9.99"
   ]
  },
  {
   "cell_type": "code",
   "execution_count": 5,
   "id": "a20fe851-81c5-425a-8c60-f45542150108",
   "metadata": {},
   "outputs": [
    {
     "data": {
      "text/plain": [
       "float"
      ]
     },
     "execution_count": 5,
     "metadata": {},
     "output_type": "execute_result"
    }
   ],
   "source": [
    "type(price) # to print the data type of the variable price"
   ]
  },
  {
   "cell_type": "raw",
   "id": "762c6cfb-a2b0-414f-96ae-3208a60b767d",
   "metadata": {},
   "source": [
    "price variable belongs to float data type"
   ]
  },
  {
   "cell_type": "markdown",
   "id": "3291b2d9-4a2e-4b21-8431-907f504ff282",
   "metadata": {},
   "source": [
    "Q9. Create a variable named name and assign your full name to it as a string. How would you print the value of this variable?"
   ]
  },
  {
   "cell_type": "code",
   "execution_count": 7,
   "id": "e960315e-22b0-49b7-b52e-48e5e80a86c1",
   "metadata": {},
   "outputs": [],
   "source": [
    "name = 'Bala Krishna' # Assigning my name to the variable name as a string"
   ]
  },
  {
   "cell_type": "code",
   "execution_count": 8,
   "id": "c8e70dd3-88df-4ecb-b236-643b2bfbca99",
   "metadata": {},
   "outputs": [
    {
     "name": "stdout",
     "output_type": "stream",
     "text": [
      "Bala Krishna\n"
     ]
    }
   ],
   "source": [
    "print(name) # printing the variable name to get the name"
   ]
  },
  {
   "cell_type": "markdown",
   "id": "0f98e0ec-3715-4451-9eac-cc0c72c88f23",
   "metadata": {},
   "source": [
    "Q10. Given the string \"Hello, World!\", extract the substring \"World\"."
   ]
  },
  {
   "cell_type": "code",
   "execution_count": 9,
   "id": "5e17868c-0c97-4342-8439-526009f6887e",
   "metadata": {},
   "outputs": [],
   "source": [
    "string = \"Hello, World!\" # Assigning the given string to the variable string"
   ]
  },
  {
   "cell_type": "code",
   "execution_count": 13,
   "id": "58433778-8018-45cc-92c8-240bb9245303",
   "metadata": {},
   "outputs": [
    {
     "data": {
      "text/plain": [
       "7"
      ]
     },
     "execution_count": 13,
     "metadata": {},
     "output_type": "execute_result"
    }
   ],
   "source": [
    "string.find('W') # to get the index of the 'W'"
   ]
  },
  {
   "cell_type": "code",
   "execution_count": 15,
   "id": "b168dbc8-7239-4a9f-812c-68ee915c934c",
   "metadata": {},
   "outputs": [
    {
     "data": {
      "text/plain": [
       "11"
      ]
     },
     "execution_count": 15,
     "metadata": {},
     "output_type": "execute_result"
    }
   ],
   "source": [
    "string.find('d') # to get the index of the 'd'"
   ]
  },
  {
   "cell_type": "code",
   "execution_count": 14,
   "id": "d3bd6d12-0b87-4ac2-98cb-df2a2720fcf4",
   "metadata": {},
   "outputs": [
    {
     "data": {
      "text/plain": [
       "'World'"
      ]
     },
     "execution_count": 14,
     "metadata": {},
     "output_type": "execute_result"
    }
   ],
   "source": [
    "string[7:12] # slicing to get the desired sub-string"
   ]
  },
  {
   "cell_type": "markdown",
   "id": "3d3f562e-9aee-4542-b037-3fb554f9e322",
   "metadata": {},
   "source": [
    "Q11. Create a variable named \"is_student\" and assign it a boolean value indicating whether you are currently a student or not."
   ]
  },
  {
   "cell_type": "code",
   "execution_count": 23,
   "id": "c101c362-a01c-4521-97de-22298ebf3d98",
   "metadata": {},
   "outputs": [
    {
     "name": "stdout",
     "output_type": "stream",
     "text": [
      "You are not a student\n"
     ]
    }
   ],
   "source": [
    "is_student = False\n",
    "\n",
    "if is_student == True: print('You are a student')\n",
    "    \n",
    "else: print(\"You are not a student\")\n",
    "    "
   ]
  }
 ],
 "metadata": {
  "kernelspec": {
   "display_name": "Python 3 (ipykernel)",
   "language": "python",
   "name": "python3"
  },
  "language_info": {
   "codemirror_mode": {
    "name": "ipython",
    "version": 3
   },
   "file_extension": ".py",
   "mimetype": "text/x-python",
   "name": "python",
   "nbconvert_exporter": "python",
   "pygments_lexer": "ipython3",
   "version": "3.10.8"
  }
 },
 "nbformat": 4,
 "nbformat_minor": 5
}
