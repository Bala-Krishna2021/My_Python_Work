{
 "cells": [
  {
   "cell_type": "raw",
   "id": "4908787f-3c15-47a9-b898-97c251a44fd7",
   "metadata": {},
   "source": [
    "Q1. Create a python program to sort the given list of tuples based on integer value using a lambda function. \n",
    "\n",
    "[('Sachin Tendulkar', 34357), ('Ricky Ponting', 27483), ('Jack Kallis', 25534), ('Virat Kohli', 24936)]"
   ]
  },
  {
   "cell_type": "code",
   "execution_count": 1,
   "id": "0f6434aa-4b3d-49ee-b767-73723e372f05",
   "metadata": {},
   "outputs": [],
   "source": [
    "listOfTuples = [('Sachin Tendulkar', 34357), ('Ricky Ponting', 27483),\n",
    "                ('Jack Kallis', 25534), ('Virat Kohli', 24936)]\n",
    "listOfTuples.sort(key = lambda x:x[1]) # sorting based on integer values"
   ]
  },
  {
   "cell_type": "code",
   "execution_count": 2,
   "id": "af8d78e8-e959-4328-b79f-a2a088d7d90a",
   "metadata": {},
   "outputs": [
    {
     "data": {
      "text/plain": [
       "[('Virat Kohli', 24936),\n",
       " ('Jack Kallis', 25534),\n",
       " ('Ricky Ponting', 27483),\n",
       " ('Sachin Tendulkar', 34357)]"
      ]
     },
     "execution_count": 2,
     "metadata": {},
     "output_type": "execute_result"
    }
   ],
   "source": [
    "listOfTuples"
   ]
  },
  {
   "cell_type": "raw",
   "id": "fb899718-9662-442e-b016-47f4c0e20e3d",
   "metadata": {},
   "source": [
    "Q2. Write a Python Program to find the squares of all the numbers in the given list of integers using lambda and map functions.\n",
    "\n",
    "[1, 2, 3, 4, 5, 6, 7, 8, 9, 10]"
   ]
  },
  {
   "cell_type": "code",
   "execution_count": 1,
   "id": "5fb12bfd-e04f-40d3-bf9e-47a17b6a8756",
   "metadata": {},
   "outputs": [],
   "source": [
    "nums = [1, 2, 3, 4, 5, 6, 7, 8, 9, 10]"
   ]
  },
  {
   "cell_type": "code",
   "execution_count": 2,
   "id": "eb24cb87-5cbb-4010-8d2b-b34e79174439",
   "metadata": {},
   "outputs": [
    {
     "name": "stdout",
     "output_type": "stream",
     "text": [
      "[1, 4, 9, 16, 25, 36, 49, 64, 81, 100]\n"
     ]
    }
   ],
   "source": [
    "sqr_nums = list(map(lambda x:x*x,nums))\n",
    "print(sqr_nums)"
   ]
  },
  {
   "cell_type": "raw",
   "id": "f15e1843-2020-4076-a0de-7721d71937b2",
   "metadata": {},
   "source": [
    "Q3. Write a python program to convert the given list of integers into a tuple of strings. Use map and lambda functions\n",
    "Given String: [1, 2, 3, 4, 5, 6, 7, 8, 9, 10]\n",
    "\n",
    "Expected output: ('1', '2', '3', '4', '5', '6', '7', '8', '9', '10')"
   ]
  },
  {
   "cell_type": "code",
   "execution_count": 3,
   "id": "a44ff848-e4ab-4bbb-ab7e-fe649e0e278c",
   "metadata": {},
   "outputs": [
    {
     "data": {
      "text/plain": [
       "[1, 2, 3, 4, 5, 6, 7, 8, 9, 10]"
      ]
     },
     "execution_count": 3,
     "metadata": {},
     "output_type": "execute_result"
    }
   ],
   "source": [
    "nums"
   ]
  },
  {
   "cell_type": "code",
   "execution_count": 4,
   "id": "e45f3ddd-0157-4a91-a2e1-eb47384c6729",
   "metadata": {},
   "outputs": [
    {
     "name": "stdout",
     "output_type": "stream",
     "text": [
      "('1', '2', '3', '4', '5', '6', '7', '8', '9', '10')\n"
     ]
    }
   ],
   "source": [
    "str_tuple = tuple(map(lambda x:str(x),nums))\n",
    "print(str_tuple)"
   ]
  },
  {
   "cell_type": "raw",
   "id": "c2441a9b-b4ef-4351-ba7b-806466396e7a",
   "metadata": {},
   "source": [
    "Q4.  Write a python program using reduce function to compute the product of a list containing numbers from 1 to 25."
   ]
  },
  {
   "cell_type": "code",
   "execution_count": 8,
   "id": "5fb29f79-018d-4d02-92c2-d13b29079faa",
   "metadata": {},
   "outputs": [
    {
     "name": "stdout",
     "output_type": "stream",
     "text": [
      "15511210043330985984000000\n"
     ]
    }
   ],
   "source": [
    "from functools import reduce # importing the reduce function from functools library\n",
    "n = list(range(1,26))\n",
    "result = reduce(lambda x,y:x*y,n)\n",
    "print(result)\n"
   ]
  },
  {
   "cell_type": "raw",
   "id": "fbe45554-3f4b-45bf-8551-fbf96993307d",
   "metadata": {},
   "source": [
    "Q5. Write a python program to filter the numbers in a given list that are divisible by 2 and 3 using the filter function.\n",
    "\n",
    "[2, 3, 6, 9, 27, 60, 90, 120, 55, 46]"
   ]
  },
  {
   "cell_type": "code",
   "execution_count": 12,
   "id": "a95f0992-91ee-4e05-9d6c-f1c83cea31b7",
   "metadata": {},
   "outputs": [
    {
     "name": "stdout",
     "output_type": "stream",
     "text": [
      "[6, 60, 90, 120]\n"
     ]
    }
   ],
   "source": [
    "lst = [2, 3, 6, 9, 27, 60, 90, 120, 55, 46]\n",
    "res = list(filter(lambda x: x%2 == 0 and x%3 == 0 ,lst))\n",
    "print(res)           \n"
   ]
  },
  {
   "cell_type": "raw",
   "id": "66ebd749-b2b2-449f-85ca-cf23ec554c48",
   "metadata": {},
   "source": [
    "Q6. Write a python program to find palindromes in the given list of strings using lambda and filter function.\n",
    "\n",
    "['python', 'php', 'aba', 'radar', 'level']"
   ]
  },
  {
   "cell_type": "code",
   "execution_count": 15,
   "id": "0df78c41-cc85-4074-a88d-4893d3369b1e",
   "metadata": {},
   "outputs": [
    {
     "name": "stdout",
     "output_type": "stream",
     "text": [
      "['php', 'aba', 'radar', 'level']\n"
     ]
    }
   ],
   "source": [
    "str_list = ['python', 'php', 'aba', 'radar', 'level']\n",
    "\n",
    "palindromes = list(filter(lambda x:x[::-1] == x,str_list))\n",
    "\n",
    "print(palindromes)"
   ]
  }
 ],
 "metadata": {
  "kernelspec": {
   "display_name": "Python 3 (ipykernel)",
   "language": "python",
   "name": "python3"
  },
  "language_info": {
   "codemirror_mode": {
    "name": "ipython",
    "version": 3
   },
   "file_extension": ".py",
   "mimetype": "text/x-python",
   "name": "python",
   "nbconvert_exporter": "python",
   "pygments_lexer": "ipython3",
   "version": "3.10.8"
  }
 },
 "nbformat": 4,
 "nbformat_minor": 5
}
