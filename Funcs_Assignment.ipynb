{
 "cells": [
  {
   "cell_type": "raw",
   "id": "791e9802-665a-4ece-843f-77b207100748",
   "metadata": {},
   "source": [
    "Q1. Which keyword is used to create a function? Create a function to return a list of odd numbers in the range of 1 to 25."
   ]
  },
  {
   "cell_type": "code",
   "execution_count": 2,
   "id": "0d199b3a-03bb-489e-89ef-f38ffd88af55",
   "metadata": {},
   "outputs": [],
   "source": [
    "# def is the keyword which is used to create a function\n",
    "# Ex:- def func():\n",
    "def oddNum_list():\n",
    "    odd_list = []\n",
    "    for i in range(1,26):\n",
    "        if i%2 != 0:\n",
    "            odd_list.append(i)\n",
    "    return odd_list\n",
    "        "
   ]
  },
  {
   "cell_type": "code",
   "execution_count": 3,
   "id": "9514050d-688c-40e5-8a03-62138d185a9c",
   "metadata": {},
   "outputs": [
    {
     "data": {
      "text/plain": [
       "[1, 3, 5, 7, 9, 11, 13, 15, 17, 19, 21, 23, 25]"
      ]
     },
     "execution_count": 3,
     "metadata": {},
     "output_type": "execute_result"
    }
   ],
   "source": [
    "oddNum_list()"
   ]
  },
  {
   "cell_type": "raw",
   "id": "a7763e55-aaad-4876-9378-fc038b2748ee",
   "metadata": {},
   "source": [
    "Q2. Why *args and **kwargs is used in some functions? Create a function each for *args and **kwargs to demonstrate their use."
   ]
  },
  {
   "cell_type": "code",
   "execution_count": 5,
   "id": "1e50fc80-461f-4717-8338-58b11b626aae",
   "metadata": {},
   "outputs": [],
   "source": [
    "''' *args and **kwargs are used in some fuctions, because to pass multiple values\n",
    "to the functions as inputs at the time of execution'''\n",
    "# i) *args is used to pass multiple values at the time of execution\n",
    "\n",
    "def sample(*args):\n",
    "    return args    # It returns the multiple values as ouput in a tuple\n"
   ]
  },
  {
   "cell_type": "code",
   "execution_count": 6,
   "id": "73aeeb72-ede1-4cd4-ada7-d1fa2171cb09",
   "metadata": {},
   "outputs": [
    {
     "data": {
      "text/plain": [
       "(11, 5.32, True, [11, 22, 33])"
      ]
     },
     "execution_count": 6,
     "metadata": {},
     "output_type": "execute_result"
    }
   ],
   "source": [
    "sample(11,5.32,True,[11,22,33])"
   ]
  },
  {
   "cell_type": "code",
   "execution_count": 7,
   "id": "40f3a2af-4ded-4de2-8322-bb308dcbbe84",
   "metadata": {},
   "outputs": [],
   "source": [
    "# We can also use any name after * instead of args for example\n",
    "def sample1(*balu):\n",
    "    return balu"
   ]
  },
  {
   "cell_type": "code",
   "execution_count": 8,
   "id": "b42c9556-8e21-4caf-98d9-bcfdeb61892e",
   "metadata": {},
   "outputs": [
    {
     "data": {
      "text/plain": [
       "('krishna', 22.3, (6+5j), (52, False, 56))"
      ]
     },
     "execution_count": 8,
     "metadata": {},
     "output_type": "execute_result"
    }
   ],
   "source": [
    "sample1('krishna',22.3,6+5j,(52,False,56))"
   ]
  },
  {
   "cell_type": "code",
   "execution_count": 11,
   "id": "8a5166c9-eebc-4a87-b1f0-56d0b8abf55d",
   "metadata": {},
   "outputs": [],
   "source": [
    "# **kwargs is used in functions for passing multiple key value pair as inputs\n",
    "def test(**kwargs):\n",
    "    return kwargs # returns the output in the form of a dictionary"
   ]
  },
  {
   "cell_type": "code",
   "execution_count": 12,
   "id": "dc2d0056-6cd4-4469-8296-5d0da8e3bd6a",
   "metadata": {},
   "outputs": [
    {
     "data": {
      "text/plain": [
       "{'a': 12, 'b': 20, 'c': 2.12}"
      ]
     },
     "execution_count": 12,
     "metadata": {},
     "output_type": "execute_result"
    }
   ],
   "source": [
    "test(a = 12,b = 20,c= 2.12)"
   ]
  },
  {
   "cell_type": "code",
   "execution_count": 13,
   "id": "8713c0e2-b2c7-4b33-9e7f-296d6d6bf57d",
   "metadata": {},
   "outputs": [],
   "source": [
    "# We can also use any name after ** instead of kwargs foe example\n",
    "\n",
    "def test1(**krishna):\n",
    "    return krishna\n"
   ]
  },
  {
   "cell_type": "code",
   "execution_count": 14,
   "id": "da87513d-7d3b-419d-9279-6517f551eee4",
   "metadata": {},
   "outputs": [
    {
     "data": {
      "text/plain": [
       "{'c': [1, 3, 5, 7, 9], 'd': 22.3, 'e': False, 'f': (15+3j)}"
      ]
     },
     "execution_count": 14,
     "metadata": {},
     "output_type": "execute_result"
    }
   ],
   "source": [
    "test1(c=[1,3,5,7,9],d = 22.3,e = False,f = 15+3j)"
   ]
  },
  {
   "cell_type": "raw",
   "id": "1478703f-9786-4ae0-9128-3fa8474a3212",
   "metadata": {},
   "source": [
    "Q3.  What is an iterator in python? Name the method used to initialise the iterator object and the method used for iteration. Use these methods to print the first five elements of the given list [2, 4, 6, 8, 10, 12, 14, 16, 18, 20]."
   ]
  },
  {
   "cell_type": "raw",
   "id": "bb90448f-ee53-4492-98e4-8ffb8e1aabb9",
   "metadata": {},
   "source": [
    "An iterator in python is used to iterate over iterables like list,tuple,string or dictionary to return a single value as output at once.\n",
    "\n",
    "iter() is a method to initiase the iterator object and next() is a method used for iteration to get the next value in the iterable"
   ]
  },
  {
   "cell_type": "code",
   "execution_count": 28,
   "id": "0c875341-36ac-4452-a186-5d0b74c17490",
   "metadata": {},
   "outputs": [],
   "source": [
    "l1 = [2, 4, 6, 8, 10, 12, 14, 16, 18, 20]\n",
    "it = iter(l1) # creates an iterator object"
   ]
  },
  {
   "cell_type": "code",
   "execution_count": 29,
   "id": "4f21c707-4d76-4a9d-aa14-49cd709d8d72",
   "metadata": {},
   "outputs": [
    {
     "name": "stdout",
     "output_type": "stream",
     "text": [
      "2\n"
     ]
    }
   ],
   "source": [
    "# to print the first element\n",
    "print(it.__next__())"
   ]
  },
  {
   "cell_type": "code",
   "execution_count": 30,
   "id": "74d638fb-989d-47ba-b4f2-4ed7e618dd8e",
   "metadata": {},
   "outputs": [
    {
     "name": "stdout",
     "output_type": "stream",
     "text": [
      "4\n"
     ]
    }
   ],
   "source": [
    "# to print the second element\n",
    "print(it.__next__())"
   ]
  },
  {
   "cell_type": "code",
   "execution_count": 31,
   "id": "0841f21b-c41c-47c4-ba84-d8f186b52194",
   "metadata": {},
   "outputs": [
    {
     "name": "stdout",
     "output_type": "stream",
     "text": [
      "6\n"
     ]
    }
   ],
   "source": [
    "# to print the third element\n",
    "print(it.__next__())"
   ]
  },
  {
   "cell_type": "code",
   "execution_count": 32,
   "id": "f4d62a74-0c1c-4b0a-8884-3418df694730",
   "metadata": {},
   "outputs": [
    {
     "data": {
      "text/plain": [
       "8"
      ]
     },
     "execution_count": 32,
     "metadata": {},
     "output_type": "execute_result"
    }
   ],
   "source": [
    "# to print the fourth element by using next() method\n",
    "next(it)"
   ]
  },
  {
   "cell_type": "code",
   "execution_count": 33,
   "id": "99b0bf5b-811a-4159-aa53-80b17127204d",
   "metadata": {},
   "outputs": [
    {
     "data": {
      "text/plain": [
       "10"
      ]
     },
     "execution_count": 33,
     "metadata": {},
     "output_type": "execute_result"
    }
   ],
   "source": [
    "# to print the fifth element\n",
    "next(it)"
   ]
  },
  {
   "cell_type": "raw",
   "id": "87fdafa8-c987-435a-8338-2725ab14ddba",
   "metadata": {},
   "source": [
    "Q4.  What is a generator function in python? Why yield keyword is used? Give an example of a generator function."
   ]
  },
  {
   "cell_type": "code",
   "execution_count": 57,
   "id": "871302b9-47dc-4208-b923-4069aed60749",
   "metadata": {},
   "outputs": [],
   "source": [
    "''' Generator functions in python are used to get the elements of iterables \n",
    "by using a key word statement yield '''\n",
    "\n",
    "# Wap to find the squares of the numbers of a list by using generator function\n",
    "numbers = [10,20,30,40,50,60]\n",
    "\n",
    "def sqr(a):\n",
    "    sq_num = 0\n",
    "    for i in numbers:\n",
    "        sq_num = i*i\n",
    "        yield sq_num\n",
    "        \n",
    "        "
   ]
  },
  {
   "cell_type": "code",
   "execution_count": 58,
   "id": "f198f5df-dd70-409e-9d1b-7938397c0c22",
   "metadata": {},
   "outputs": [],
   "source": [
    "sqNums = sqr(numbers) # creates a generator object"
   ]
  },
  {
   "cell_type": "code",
   "execution_count": 59,
   "id": "fa37d200-7e00-46b8-bc55-07c356f597a0",
   "metadata": {},
   "outputs": [
    {
     "name": "stdout",
     "output_type": "stream",
     "text": [
      "100\n"
     ]
    }
   ],
   "source": [
    "print(sqNums.__next__()) # printing the first value"
   ]
  },
  {
   "cell_type": "code",
   "execution_count": 60,
   "id": "6a11c485-10eb-4a7c-80bb-517e96f223af",
   "metadata": {},
   "outputs": [
    {
     "name": "stdout",
     "output_type": "stream",
     "text": [
      "400\n"
     ]
    }
   ],
   "source": [
    "print(sqNums.__next__()) # printing the secong value"
   ]
  },
  {
   "cell_type": "code",
   "execution_count": 61,
   "id": "39321693-385a-447d-b4b6-4dc7c9252708",
   "metadata": {},
   "outputs": [
    {
     "name": "stdout",
     "output_type": "stream",
     "text": [
      "900\n"
     ]
    },
    {
     "data": {
      "text/plain": [
       "2500"
      ]
     },
     "execution_count": 61,
     "metadata": {},
     "output_type": "execute_result"
    }
   ],
   "source": [
    "# to print the next two values by using next() method\n",
    "next(sqNums)\n",
    "next(sqNums)"
   ]
  },
  {
   "cell_type": "raw",
   "id": "3a0b5873-878e-48d5-9e9f-5b6e28f0d435",
   "metadata": {},
   "source": [
    "Q5. Create a generator function for prime numbers less than 1000. Use the next() method to print the first 20 prime numbers."
   ]
  },
  {
   "cell_type": "code",
   "execution_count": 25,
   "id": "3abb6507-d13a-4abe-a3d4-44440f8485cb",
   "metadata": {},
   "outputs": [],
   "source": [
    "def primeNums():\n",
    "    for i in range(1,1000):\n",
    "        if i > 1:\n",
    "            for j in range(2,i):\n",
    "                if i%j == 0:\n",
    "                    break\n",
    "            else:\n",
    "                yield i"
   ]
  },
  {
   "cell_type": "code",
   "execution_count": 26,
   "id": "466b5520-8c83-4755-9e93-df99166d067b",
   "metadata": {},
   "outputs": [],
   "source": [
    "prime_Numbers = primeNums( )"
   ]
  },
  {
   "cell_type": "code",
   "execution_count": 27,
   "id": "7af12e6d-0fb0-4fda-96ce-fd42d9cf167b",
   "metadata": {},
   "outputs": [
    {
     "name": "stdout",
     "output_type": "stream",
     "text": [
      "2 3 5 7 11 13 17 19 23 29 31 37 41 43 47 53 59 61 67 71 "
     ]
    }
   ],
   "source": [
    "# printing the first 20 prime numbers by using next() method\n",
    "for i in range(20):\n",
    "    print(next(prime_Numbers),end = ' ')\n"
   ]
  },
  {
   "cell_type": "code",
   "execution_count": null,
   "id": "1aa7999f-cda0-4e5f-aea0-b55b1a89d7cc",
   "metadata": {},
   "outputs": [],
   "source": []
  }
 ],
 "metadata": {
  "kernelspec": {
   "display_name": "Python 3 (ipykernel)",
   "language": "python",
   "name": "python3"
  },
  "language_info": {
   "codemirror_mode": {
    "name": "ipython",
    "version": 3
   },
   "file_extension": ".py",
   "mimetype": "text/x-python",
   "name": "python",
   "nbconvert_exporter": "python",
   "pygments_lexer": "ipython3",
   "version": "3.10.8"
  }
 },
 "nbformat": 4,
 "nbformat_minor": 5
}
