{
 "cells": [
  {
   "cell_type": "markdown",
   "id": "749528b6-6514-47f5-bb88-d34c3633c93e",
   "metadata": {},
   "source": [
    "## Python_Assignment1"
   ]
  },
  {
   "cell_type": "raw",
   "id": "154a69d9-79fe-4f05-9ff3-d8c5f3729aa6",
   "metadata": {},
   "source": [
    "Q1. Create one variable containing following type of data:\n",
    "\n",
    "(i)\tstring\n",
    "\n",
    "(ii)\tlist\n",
    "\n",
    "(iii)\tfloat\n",
    "\n",
    "(iv)\ttuple"
   ]
  },
  {
   "cell_type": "code",
   "execution_count": 1,
   "id": "7d3221e8-9c3c-44c8-8e65-a32a8e1d752f",
   "metadata": {},
   "outputs": [],
   "source": [
    "#(i)\n",
    "str1 = 'Data Science'\n",
    "#(ii)\n",
    "list1 = ['a',22,2.5,True,1+2j]\n",
    "#(iii)\n",
    "float1 = 59.366\n",
    "#(iv)\n",
    "tuple1 = ('a',22,2.5,True,1+2j)"
   ]
  },
  {
   "cell_type": "raw",
   "id": "05c5a275-af0e-46d5-b391-5e9191dce010",
   "metadata": {},
   "source": [
    "Q2. Given are some following variables containing data:\n",
    "\n",
    "(i)\tvar1 = ‘ ‘\n",
    "\n",
    "(ii)\tvar2 = ‘[ DS , ML , Python]’\n",
    "\n",
    "(iii)\tvar3 = [ ‘DS’ , ’ML’ , ‘Python’ ]\n",
    "\n",
    "(iv)\tvar4 = 1.\n",
    "\n",
    "What will be the data type of the above given variable."
   ]
  },
  {
   "cell_type": "raw",
   "id": "8acc1f4c-df19-48bb-982b-6a44e2e578bc",
   "metadata": {},
   "source": [
    "(i) The data type of var1 is string\n",
    "\n",
    "(ii) var2 is not a data type because it gives syntax error when it gets executed. If      the elementsin the square braces are in quotations then the elemets can be          strings. So that var2 can be a list \n",
    "\n",
    "(iii) The data type of var3 is list\n",
    "\n",
    "(iv) The data type of var4 is int\n"
   ]
  },
  {
   "cell_type": "raw",
   "id": "c870032a-7d45-4c2f-b0d2-f2586e098d2d",
   "metadata": {},
   "source": [
    "Q3. Explain the use of the following operators using an example:\n",
    "\n",
    "(i)\t/\n",
    "\n",
    "(ii)\t% \n",
    "\n",
    "(iii)\t//\n",
    "\n",
    "(iv)\t**"
   ]
  },
  {
   "cell_type": "code",
   "execution_count": 11,
   "id": "f3f715d2-abb6-488a-83a3-055fe5a2a859",
   "metadata": {},
   "outputs": [
    {
     "data": {
      "text/plain": [
       "1.7142857142857142"
      ]
     },
     "execution_count": 11,
     "metadata": {},
     "output_type": "execute_result"
    }
   ],
   "source": [
    "'''(i) / is a divison operator, used for performing division of two numbers as to return \n",
    "                  the quotient including decimal places'''\n",
    "\n",
    "12/7\n"
   ]
  },
  {
   "cell_type": "code",
   "execution_count": 12,
   "id": "eb48ff25-acac-4b06-9698-490ccf75ed2f",
   "metadata": {},
   "outputs": [
    {
     "data": {
      "text/plain": [
       "2"
      ]
     },
     "execution_count": 12,
     "metadata": {},
     "output_type": "execute_result"
    }
   ],
   "source": [
    "'''(ii) % is a modulus operator, used for performing division of two numbers as to return \n",
    "                  the remainder '''\n",
    "\n",
    "152%10"
   ]
  },
  {
   "cell_type": "code",
   "execution_count": 13,
   "id": "422e172d-e61a-40ee-ac00-78fc02da437a",
   "metadata": {},
   "outputs": [
    {
     "data": {
      "text/plain": [
       "1"
      ]
     },
     "execution_count": 13,
     "metadata": {},
     "output_type": "execute_result"
    }
   ],
   "source": [
    "'''(iii) // is a floor divison operator, used for performing division of two numbers as to return \n",
    "                  the quotient excluding decimal places'''\n",
    "12//7"
   ]
  },
  {
   "cell_type": "code",
   "execution_count": 14,
   "id": "3ee780a7-2d52-4096-810d-b5a92d602980",
   "metadata": {},
   "outputs": [
    {
     "data": {
      "text/plain": [
       "27"
      ]
     },
     "execution_count": 14,
     "metadata": {},
     "output_type": "execute_result"
    }
   ],
   "source": [
    "'''(iv) ** is an exponentiation operator used for finding the exponent value of a number'''\n",
    "\n",
    "3**3"
   ]
  },
  {
   "cell_type": "raw",
   "id": "f7eca154-63b4-4857-9355-6052a399224e",
   "metadata": {},
   "source": [
    "Q4. Create a list of length 10 of your choice containing multiple types of data. Using for loop print the element and its data type."
   ]
  },
  {
   "cell_type": "code",
   "execution_count": 15,
   "id": "73aaa840-3183-4256-9e97-faa28b12872e",
   "metadata": {},
   "outputs": [],
   "source": [
    "l1 = ['Bala',15.6,5+6j,50,True,'Krishna',False,22.2236,10,'Thulasi']"
   ]
  },
  {
   "cell_type": "code",
   "execution_count": 17,
   "id": "6907a2d9-29b0-47a9-9fc0-4045148b5c84",
   "metadata": {},
   "outputs": [
    {
     "data": {
      "text/plain": [
       "10"
      ]
     },
     "execution_count": 17,
     "metadata": {},
     "output_type": "execute_result"
    }
   ],
   "source": [
    "len(l1)"
   ]
  },
  {
   "cell_type": "code",
   "execution_count": 21,
   "id": "a5edd2f3-44d5-4ba7-b504-e82bc52aeb2e",
   "metadata": {},
   "outputs": [
    {
     "name": "stdout",
     "output_type": "stream",
     "text": [
      "Bala : data_type - <class 'str'>\n",
      "15.6 : data_type - <class 'float'>\n",
      "(5+6j) : data_type - <class 'complex'>\n",
      "50 : data_type - <class 'int'>\n",
      "True : data_type - <class 'bool'>\n",
      "Krishna : data_type - <class 'str'>\n",
      "False : data_type - <class 'bool'>\n",
      "22.2236 : data_type - <class 'float'>\n",
      "10 : data_type - <class 'int'>\n",
      "Thulasi : data_type - <class 'str'>\n"
     ]
    }
   ],
   "source": [
    "for i in l1:\n",
    "    print(f'{i} : data_type - {type(i)}')"
   ]
  },
  {
   "cell_type": "raw",
   "id": "419ae292-2706-4265-b9ed-646a08d89f7c",
   "metadata": {},
   "source": [
    "Q5. Using a while loop, verify if the number A is purely divisible by number B and if so then how many times it can be divisible."
   ]
  },
  {
   "cell_type": "code",
   "execution_count": 3,
   "id": "8c1a8d12-ca98-4621-9396-14d073c7295b",
   "metadata": {},
   "outputs": [
    {
     "name": "stdin",
     "output_type": "stream",
     "text": [
      "Enter the A :  64\n",
      "Enter the B :  4\n"
     ]
    },
    {
     "name": "stdout",
     "output_type": "stream",
     "text": [
      "A is divisible by B 3 times\n"
     ]
    }
   ],
   "source": [
    "A = int(input('Enter the A : '))\n",
    "B = int(input('Enter the B : '))   \n",
    "count = 0\n",
    "while A%B == 0:\n",
    "    A = A//B\n",
    "    count += 1\n",
    "if count>0:\n",
    "    print(f'A is divisible by B {count} times')\n",
    "else:\n",
    "    print('A is not completely divisible by B')\n",
    "\n",
    "        \n",
    "        \n",
    "        "
   ]
  },
  {
   "cell_type": "raw",
   "id": "fde91682-4638-4fd9-a5df-44b14aaa9610",
   "metadata": {},
   "source": [
    "Q6. Create a list containing 25 int type data. Using for loop and if-else condition print if the element is divisible by 3 or not."
   ]
  },
  {
   "cell_type": "code",
   "execution_count": 4,
   "id": "690d101f-db0f-4175-8afe-15f337a8d715",
   "metadata": {},
   "outputs": [],
   "source": [
    "num_list = [12,52,16,18,22,21,57,9,3,51,50,10,30,60,243,23,17,19,97,66,14,55,44,100,34]"
   ]
  },
  {
   "cell_type": "code",
   "execution_count": 5,
   "id": "3c55484e-ac7e-4879-8399-491f0de72ac0",
   "metadata": {},
   "outputs": [
    {
     "data": {
      "text/plain": [
       "25"
      ]
     },
     "execution_count": 5,
     "metadata": {},
     "output_type": "execute_result"
    }
   ],
   "source": [
    "len(num_list)"
   ]
  },
  {
   "cell_type": "code",
   "execution_count": 7,
   "id": "46753e76-5b5b-457b-91b9-4946fa5a58ab",
   "metadata": {},
   "outputs": [
    {
     "name": "stdout",
     "output_type": "stream",
     "text": [
      "12 is divisible by 3\n",
      "52 is not divisible by 3\n",
      "16 is not divisible by 3\n",
      "18 is divisible by 3\n",
      "22 is not divisible by 3\n",
      "21 is divisible by 3\n",
      "57 is divisible by 3\n",
      "9 is divisible by 3\n",
      "3 is divisible by 3\n",
      "51 is divisible by 3\n",
      "50 is not divisible by 3\n",
      "10 is not divisible by 3\n",
      "30 is divisible by 3\n",
      "60 is divisible by 3\n",
      "243 is divisible by 3\n",
      "23 is not divisible by 3\n",
      "17 is not divisible by 3\n",
      "19 is not divisible by 3\n",
      "97 is not divisible by 3\n",
      "66 is divisible by 3\n",
      "14 is not divisible by 3\n",
      "55 is not divisible by 3\n",
      "44 is not divisible by 3\n",
      "100 is not divisible by 3\n",
      "34 is not divisible by 3\n"
     ]
    }
   ],
   "source": [
    "for i in num_list:\n",
    "    if i % 3 == 0:\n",
    "        print(f'{i} is divisible by 3')\n",
    "    else:\n",
    "        print(f'{i} is not divisible by 3')"
   ]
  },
  {
   "cell_type": "raw",
   "id": "29895714-23f8-4e5d-a836-148d2b2d86a1",
   "metadata": {},
   "source": [
    "Q7. What do you understand about mutable and immutable data types? Give examples for both showing \n",
    "this property."
   ]
  },
  {
   "cell_type": "raw",
   "id": "8c6e355d-3df7-4e91-b320-79cadabfd259",
   "metadata": {},
   "source": [
    "Immutable data types : The data types that are not changeable after the object is created. The values of the object can                        not be modified or removed and also no new value is added. Such type of data types are called                          Immutable data types.All fundamental data types(int, float, str, bool,complex) and tuple are                            immutable."
   ]
  },
  {
   "cell_type": "code",
   "execution_count": 9,
   "id": "8270ea61-e97b-4afa-a547-0d6a18506e16",
   "metadata": {},
   "outputs": [
    {
     "ename": "TypeError",
     "evalue": "'str' object does not support item assignment",
     "output_type": "error",
     "traceback": [
      "\u001b[0;31m---------------------------------------------------------------------------\u001b[0m",
      "\u001b[0;31mTypeError\u001b[0m                                 Traceback (most recent call last)",
      "Cell \u001b[0;32mIn[9], line 2\u001b[0m\n\u001b[1;32m      1\u001b[0m a \u001b[38;5;241m=\u001b[39m \u001b[38;5;124m'\u001b[39m\u001b[38;5;124mABCD\u001b[39m\u001b[38;5;124m'\u001b[39m\n\u001b[0;32m----> 2\u001b[0m \u001b[43ma\u001b[49m\u001b[43m[\u001b[49m\u001b[38;5;241;43m0\u001b[39;49m\u001b[43m]\u001b[49m \u001b[38;5;241m=\u001b[39m \u001b[38;5;124m'\u001b[39m\u001b[38;5;124mS\u001b[39m\u001b[38;5;124m'\u001b[39m\n",
      "\u001b[0;31mTypeError\u001b[0m: 'str' object does not support item assignment"
     ]
    }
   ],
   "source": [
    "a = 'ABCD'\n",
    "a[0] = 'S'"
   ]
  },
  {
   "cell_type": "code",
   "execution_count": 10,
   "id": "124f7a79-42e3-47f2-86d2-b407e78506a1",
   "metadata": {},
   "outputs": [
    {
     "ename": "TypeError",
     "evalue": "'tuple' object does not support item assignment",
     "output_type": "error",
     "traceback": [
      "\u001b[0;31m---------------------------------------------------------------------------\u001b[0m",
      "\u001b[0;31mTypeError\u001b[0m                                 Traceback (most recent call last)",
      "Cell \u001b[0;32mIn[10], line 2\u001b[0m\n\u001b[1;32m      1\u001b[0m t1 \u001b[38;5;241m=\u001b[39m (\u001b[38;5;124m'\u001b[39m\u001b[38;5;124mBala\u001b[39m\u001b[38;5;124m'\u001b[39m,\u001b[38;5;241m25\u001b[39m,\u001b[38;5;241m35.6\u001b[39m,\u001b[38;5;28;01mTrue\u001b[39;00m)\n\u001b[0;32m----> 2\u001b[0m \u001b[43mt1\u001b[49m\u001b[43m[\u001b[49m\u001b[38;5;241;43m1\u001b[39;49m\u001b[43m]\u001b[49m \u001b[38;5;241m=\u001b[39m \u001b[38;5;28;01mFalse\u001b[39;00m\n\u001b[1;32m      3\u001b[0m t1[\u001b[38;5;241m-\u001b[39m\u001b[38;5;241m1\u001b[39m] \u001b[38;5;241m=\u001b[39m \u001b[38;5;124m'\u001b[39m\u001b[38;5;124mAAAA\u001b[39m\u001b[38;5;124m'\u001b[39m\n",
      "\u001b[0;31mTypeError\u001b[0m: 'tuple' object does not support item assignment"
     ]
    }
   ],
   "source": [
    "t1 = ('Bala',25,35.6,True)\n",
    "t1[1] = False\n",
    "t1[-1] = 'AAAA'"
   ]
  },
  {
   "cell_type": "raw",
   "id": "a1eb35a1-f0c1-41ae-97c3-4bcef5fe5567",
   "metadata": {},
   "source": [
    "Mutable data types : The data types that are changeable after the object is created. The values of the object can                            be modified or removed and also no new value is added. Such type of data types are called                              Mutable data types. Lists, Sets and Dictionaries are mutable"
   ]
  },
  {
   "cell_type": "code",
   "execution_count": 11,
   "id": "9f7d06a7-98c9-4894-8a71-8e85abefe75b",
   "metadata": {},
   "outputs": [],
   "source": [
    "l2 = [10,True,22.6,'car',6+7j]\n"
   ]
  },
  {
   "cell_type": "code",
   "execution_count": 15,
   "id": "9846e61f-3004-4fda-ad8c-0324e04bf58e",
   "metadata": {},
   "outputs": [
    {
     "data": {
      "text/plain": [
       "list"
      ]
     },
     "execution_count": 15,
     "metadata": {},
     "output_type": "execute_result"
    }
   ],
   "source": [
    "type(l2)"
   ]
  },
  {
   "cell_type": "code",
   "execution_count": 16,
   "id": "0a9c98ab-19fa-46bd-92f7-4eab00df4bb5",
   "metadata": {},
   "outputs": [],
   "source": [
    "l2[0] = False\n",
    "l2[-1] = 'Tiger'"
   ]
  },
  {
   "cell_type": "code",
   "execution_count": 17,
   "id": "8b35f5eb-fe59-4610-9487-381924f2dd89",
   "metadata": {},
   "outputs": [
    {
     "data": {
      "text/plain": [
       "[False, True, 22.6, 'car', 'Tiger']"
      ]
     },
     "execution_count": 17,
     "metadata": {},
     "output_type": "execute_result"
    }
   ],
   "source": [
    "l2"
   ]
  },
  {
   "cell_type": "code",
   "execution_count": 13,
   "id": "2ef7aa5e-dc2d-4296-a2b0-b004324a6125",
   "metadata": {},
   "outputs": [],
   "source": [
    "Dict1 = {'A' : 25,'B' : 'Papaya', 'C' : 59.6, 'D' : True}"
   ]
  },
  {
   "cell_type": "code",
   "execution_count": 14,
   "id": "59b4956a-7c92-4bfe-af68-9842f63f7935",
   "metadata": {},
   "outputs": [
    {
     "data": {
      "text/plain": [
       "dict"
      ]
     },
     "execution_count": 14,
     "metadata": {},
     "output_type": "execute_result"
    }
   ],
   "source": [
    "type(Dict1)"
   ]
  },
  {
   "cell_type": "code",
   "execution_count": 19,
   "id": "ff9e56c5-bafc-4ad2-bf5d-9bce0fe24b1b",
   "metadata": {},
   "outputs": [],
   "source": [
    "Dict1['A'] = 100\n",
    "Dict1['C'] = False"
   ]
  },
  {
   "cell_type": "code",
   "execution_count": 20,
   "id": "2e462caf-0ee6-401e-b845-ad3b745ca1b4",
   "metadata": {},
   "outputs": [
    {
     "data": {
      "text/plain": [
       "{'A': 100, 'B': 'Papaya', 'C': False, 'D': True, 1: 100}"
      ]
     },
     "execution_count": 20,
     "metadata": {},
     "output_type": "execute_result"
    }
   ],
   "source": [
    "Dict1"
   ]
  },
  {
   "cell_type": "code",
   "execution_count": null,
   "id": "69ddad42-4ddb-4508-97d6-df3128b2b061",
   "metadata": {},
   "outputs": [],
   "source": []
  }
 ],
 "metadata": {
  "kernelspec": {
   "display_name": "Python 3 (ipykernel)",
   "language": "python",
   "name": "python3"
  },
  "language_info": {
   "codemirror_mode": {
    "name": "ipython",
    "version": 3
   },
   "file_extension": ".py",
   "mimetype": "text/x-python",
   "name": "python",
   "nbconvert_exporter": "python",
   "pygments_lexer": "ipython3",
   "version": "3.10.8"
  }
 },
 "nbformat": 4,
 "nbformat_minor": 5
}
